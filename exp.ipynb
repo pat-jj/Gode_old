{
 "cells": [
  {
   "cell_type": "code",
   "execution_count": 1,
   "metadata": {},
   "outputs": [
    {
     "name": "stderr",
     "output_type": "stream",
     "text": [
      "/home/pj20/miniconda3/envs/txgnn_env/lib/python3.8/site-packages/tqdm/auto.py:21: TqdmWarning: IProgress not found. Please update jupyter and ipywidgets. See https://ipywidgets.readthedocs.io/en/stable/user_install.html\n",
      "  from .autonotebook import tqdm as notebook_tqdm\n",
      "Using backend: pytorch\n"
     ]
    }
   ],
   "source": [
    "import os\n",
    "import math\n",
    "import copy\n",
    "import pickle\n",
    "\n",
    "import numpy as np\n",
    "import pandas as pd\n",
    "from tqdm.auto import tqdm\n",
    "import dgl\n",
    "\n",
    "from dataset_construction.utils import preprocess_kg, create_split, process_disease_area_split, create_dgl_graph, evaluate_graph_construct, convert2str, data_download_wrapper\n",
    "\n",
    "import warnings\n",
    "warnings.filterwarnings(\"ignore\")"
   ]
  },
  {
   "cell_type": "code",
   "execution_count": 2,
   "metadata": {},
   "outputs": [],
   "source": [
    "# kg_dir = '/data/pj20/txgnn/kg/'\n",
    "kg_dir = './dataset_construction/'\n",
    "\n",
    "df = pd.read_csv(kg_dir + 'KG.csv')\n",
    "df = df[['x_type', 'x_id', 'relation', 'y_type', 'y_id']]"
   ]
  },
  {
   "cell_type": "code",
   "execution_count": 3,
   "metadata": {},
   "outputs": [],
   "source": [
    "def categorize_values(series):\n",
    "    # Define the categories based on deciles\n",
    "    quantiles = series.quantile([0.1, 0.2, 0.3, 0.4, 0.5, 0.6, 0.7, 0.8, 0.9])\n",
    "\n",
    "    # Create a categorical variable based on the quantiles\n",
    "    categories = pd.cut(series, bins=pd.unique([-float('inf'), *quantiles, float('inf')]),\n",
    "                        labels=range(1, len(pd.unique([-float('inf'), *quantiles, float('inf')]))),\n",
    "                        duplicates='drop')\n",
    "\n",
    "    return categories\n",
    "\n",
    "# Group the data by 'relation' and 'y_type', and apply the categorization function\n",
    "value_rows = df['y_type'] == 'value'\n",
    "df.loc[value_rows, 'y_id'] = df[value_rows].groupby(['relation', 'y_type'])['y_id'].transform(categorize_values)"
   ]
  },
  {
   "cell_type": "code",
   "execution_count": 4,
   "metadata": {},
   "outputs": [
    {
     "data": {
      "text/plain": [
       "array(['closematch', 'contraindication', 'cooccurence_molecule_disease',\n",
       "       'cooccurence_molecule_gene/protein',\n",
       "       'cooccurence_molecule_molecule', 'covalent_unit_count',\n",
       "       'defined_atom_stereo_count', 'defined_bond_stereo_count',\n",
       "       'drug_drug', 'drug_effect', 'drug_protein', 'exact_mass',\n",
       "       'has_component', 'has_isotopologue', 'has_parent',\n",
       "       'has_same_connectivity', 'has_stereoisomer',\n",
       "       'hydrogen_bond_acceptor_count', 'hydrogen_bond_donor_count',\n",
       "       'in_pathway', 'indication', 'isotope_atom_count',\n",
       "       'molecular_weight', 'mono_isotopic_weight', 'neighbor_2d',\n",
       "       'neighbor_3d', 'non-hydrogen_atom_count', 'off-label use',\n",
       "       'rotatable_bond_count', 'structure_complexity', 'tautomer_count',\n",
       "       'to_drug', 'total_formal_charge', 'tpsa', 'type',\n",
       "       'undefined_atom_stereo_count', 'undefined_bond_stereo_count',\n",
       "       'xlogp3', 'xlogp3-aa'], dtype=object)"
      ]
     },
     "execution_count": 4,
     "metadata": {},
     "output_type": "execute_result"
    }
   ],
   "source": [
    "unique_relation = np.unique(df.relation.values)\n",
    "unique_relation"
   ]
  },
  {
   "cell_type": "code",
   "execution_count": 5,
   "metadata": {},
   "outputs": [
    {
     "name": "stderr",
     "output_type": "stream",
     "text": [
      "100%|██████████| 39/39 [00:12<00:00,  3.18it/s]\n"
     ]
    }
   ],
   "source": [
    "undirected_index = []\n",
    "\n",
    "for i in tqdm(unique_relation):\n",
    "    if ('_' in i) and (i.split('_')[0] == i.split('_')[1]):\n",
    "        # homogeneous graph\n",
    "        df_temp = df[df.relation == i]\n",
    "        df_temp['check_string'] = df_temp.apply(lambda row: '_'.join(sorted([str(row['x_id']), str(row['y_id'])])), axis=1)\n",
    "        undirected_index.append(df_temp.drop_duplicates('check_string').index.values.tolist())\n",
    "    else:\n",
    "        # undirected, 去重 (a->b 和 b->a 只记其中一个)\n",
    "        d_off = df[df.relation == i]\n",
    "        undirected_index.append(d_off[d_off.x_type == d_off.x_type.iloc[0]].index.values.tolist())"
   ]
  },
  {
   "cell_type": "code",
   "execution_count": 6,
   "metadata": {},
   "outputs": [],
   "source": [
    "flat_list = [item for sublist in undirected_index for item in sublist]\n",
    "df = df[df.index.isin(flat_list)]\n",
    "unique_node_types = np.unique(np.append(np.unique(df.x_type.values), np.unique(df.y_type.values)))"
   ]
  },
  {
   "cell_type": "code",
   "execution_count": 7,
   "metadata": {},
   "outputs": [
    {
     "data": {
      "text/plain": [
       "array(['disease', 'drug', 'effect/phenotype', 'gene/protein', 'molecule',\n",
       "       'pathway', 'value'], dtype=object)"
      ]
     },
     "execution_count": 7,
     "metadata": {},
     "output_type": "execute_result"
    }
   ],
   "source": [
    "unique_node_types"
   ]
  },
  {
   "cell_type": "code",
   "execution_count": 8,
   "metadata": {},
   "outputs": [
    {
     "data": {
      "text/html": [
       "<div>\n",
       "<style scoped>\n",
       "    .dataframe tbody tr th:only-of-type {\n",
       "        vertical-align: middle;\n",
       "    }\n",
       "\n",
       "    .dataframe tbody tr th {\n",
       "        vertical-align: top;\n",
       "    }\n",
       "\n",
       "    .dataframe thead th {\n",
       "        text-align: right;\n",
       "    }\n",
       "</style>\n",
       "<table border=\"1\" class=\"dataframe\">\n",
       "  <thead>\n",
       "    <tr style=\"text-align: right;\">\n",
       "      <th></th>\n",
       "      <th>x_type</th>\n",
       "      <th>x_id</th>\n",
       "      <th>relation</th>\n",
       "      <th>y_type</th>\n",
       "      <th>y_id</th>\n",
       "    </tr>\n",
       "  </thead>\n",
       "  <tbody>\n",
       "    <tr>\n",
       "      <th>0</th>\n",
       "      <td>molecule</td>\n",
       "      <td>23978.0</td>\n",
       "      <td>drug_protein</td>\n",
       "      <td>gene/protein</td>\n",
       "      <td>F8</td>\n",
       "    </tr>\n",
       "    <tr>\n",
       "      <th>1</th>\n",
       "      <td>molecule</td>\n",
       "      <td>23978.0</td>\n",
       "      <td>drug_protein</td>\n",
       "      <td>gene/protein</td>\n",
       "      <td>F5</td>\n",
       "    </tr>\n",
       "    <tr>\n",
       "      <th>2</th>\n",
       "      <td>molecule</td>\n",
       "      <td>977.0</td>\n",
       "      <td>drug_protein</td>\n",
       "      <td>gene/protein</td>\n",
       "      <td>HBA2</td>\n",
       "    </tr>\n",
       "    <tr>\n",
       "      <th>3</th>\n",
       "      <td>molecule</td>\n",
       "      <td>82153.0</td>\n",
       "      <td>drug_protein</td>\n",
       "      <td>gene/protein</td>\n",
       "      <td>SERPINA6</td>\n",
       "    </tr>\n",
       "    <tr>\n",
       "      <th>4</th>\n",
       "      <td>molecule</td>\n",
       "      <td>5311000.0</td>\n",
       "      <td>drug_protein</td>\n",
       "      <td>gene/protein</td>\n",
       "      <td>SERPINA6</td>\n",
       "    </tr>\n",
       "    <tr>\n",
       "      <th>...</th>\n",
       "      <td>...</td>\n",
       "      <td>...</td>\n",
       "      <td>...</td>\n",
       "      <td>...</td>\n",
       "      <td>...</td>\n",
       "    </tr>\n",
       "    <tr>\n",
       "      <th>2526886</th>\n",
       "      <td>molecule</td>\n",
       "      <td>439153.0</td>\n",
       "      <td>in_pathway</td>\n",
       "      <td>pathway</td>\n",
       "      <td>PWID1228018</td>\n",
       "    </tr>\n",
       "    <tr>\n",
       "      <th>2526887</th>\n",
       "      <td>molecule</td>\n",
       "      <td>644102.0</td>\n",
       "      <td>in_pathway</td>\n",
       "      <td>pathway</td>\n",
       "      <td>PWID1239777</td>\n",
       "    </tr>\n",
       "    <tr>\n",
       "      <th>2526888</th>\n",
       "      <td>molecule</td>\n",
       "      <td>668.0</td>\n",
       "      <td>in_pathway</td>\n",
       "      <td>pathway</td>\n",
       "      <td>PWID1324467</td>\n",
       "    </tr>\n",
       "    <tr>\n",
       "      <th>2526889</th>\n",
       "      <td>molecule</td>\n",
       "      <td>644102.0</td>\n",
       "      <td>in_pathway</td>\n",
       "      <td>pathway</td>\n",
       "      <td>PWID1234075</td>\n",
       "    </tr>\n",
       "    <tr>\n",
       "      <th>2526890</th>\n",
       "      <td>molecule</td>\n",
       "      <td>6176.0</td>\n",
       "      <td>in_pathway</td>\n",
       "      <td>pathway</td>\n",
       "      <td>PWID1234444</td>\n",
       "    </tr>\n",
       "  </tbody>\n",
       "</table>\n",
       "<p>2523867 rows × 5 columns</p>\n",
       "</div>"
      ],
      "text/plain": [
       "           x_type       x_id      relation        y_type         y_id\n",
       "0        molecule    23978.0  drug_protein  gene/protein           F8\n",
       "1        molecule    23978.0  drug_protein  gene/protein           F5\n",
       "2        molecule      977.0  drug_protein  gene/protein         HBA2\n",
       "3        molecule    82153.0  drug_protein  gene/protein     SERPINA6\n",
       "4        molecule  5311000.0  drug_protein  gene/protein     SERPINA6\n",
       "...           ...        ...           ...           ...          ...\n",
       "2526886  molecule   439153.0    in_pathway       pathway  PWID1228018\n",
       "2526887  molecule   644102.0    in_pathway       pathway  PWID1239777\n",
       "2526888  molecule      668.0    in_pathway       pathway  PWID1324467\n",
       "2526889  molecule   644102.0    in_pathway       pathway  PWID1234075\n",
       "2526890  molecule     6176.0    in_pathway       pathway  PWID1234444\n",
       "\n",
       "[2523867 rows x 5 columns]"
      ]
     },
     "execution_count": 8,
     "metadata": {},
     "output_type": "execute_result"
    }
   ],
   "source": [
    "df"
   ]
  },
  {
   "cell_type": "code",
   "execution_count": 9,
   "metadata": {},
   "outputs": [],
   "source": [
    "df['x_idx'] = np.nan\n",
    "df['y_idx'] = np.nan\n",
    "df['x_id'] = df.x_id.apply(lambda x: convert2str(x))\n",
    "df['y_id'] = df.y_id.apply(lambda x: convert2str(x))\n"
   ]
  },
  {
   "cell_type": "code",
   "execution_count": 10,
   "metadata": {},
   "outputs": [
    {
     "data": {
      "text/plain": [
       "array(['disease', 'drug', 'effect/phenotype', 'gene/protein', 'molecule',\n",
       "       'pathway', 'value'], dtype=object)"
      ]
     },
     "execution_count": 10,
     "metadata": {},
     "output_type": "execute_result"
    }
   ],
   "source": [
    "unique_node_types"
   ]
  },
  {
   "cell_type": "code",
   "execution_count": 11,
   "metadata": {},
   "outputs": [
    {
     "name": "stderr",
     "output_type": "stream",
     "text": [
      "100%|██████████| 7/7 [00:12<00:00,  1.76s/it]\n"
     ]
    }
   ],
   "source": [
    "idx_map = {}\n",
    "for i in tqdm(unique_node_types):\n",
    "    names = np.unique(np.append(df[df.x_type == i]['x_id'].values, df[df.y_type == i]['y_id'].values))\n",
    "    names2idx = dict(zip(names, list(range(len(names)))))\n",
    "    df.loc[df.x_type == i, 'x_idx'] = df[df.x_type == i]['x_id'].apply(lambda x: names2idx[x])\n",
    "    df.loc[df.y_type == i, 'y_idx'] = df[df.y_type == i]['y_id'].apply(lambda x: names2idx[x])\n",
    "    idx_map[i] = names2idx"
   ]
  },
  {
   "cell_type": "code",
   "execution_count": 12,
   "metadata": {},
   "outputs": [
    {
     "data": {
      "text/plain": [
       "{'1.0': 0,\n",
       " '10.0': 1,\n",
       " '2.0': 2,\n",
       " '3.0': 3,\n",
       " '4.0': 4,\n",
       " '5.0': 5,\n",
       " '6.0': 6,\n",
       " '7.0': 7,\n",
       " '8.0': 8,\n",
       " '9.0': 9}"
      ]
     },
     "execution_count": 12,
     "metadata": {},
     "output_type": "execute_result"
    }
   ],
   "source": [
    "idx_map[\n",
    "    'value'\n",
    "]"
   ]
  },
  {
   "cell_type": "code",
   "execution_count": 13,
   "metadata": {},
   "outputs": [
    {
     "data": {
      "text/plain": [
       "(4173, 88811)"
      ]
     },
     "execution_count": 13,
     "metadata": {},
     "output_type": "execute_result"
    }
   ],
   "source": [
    "len(idx_map['disease']), len(idx_map['molecule'])"
   ]
  },
  {
   "cell_type": "code",
   "execution_count": 14,
   "metadata": {},
   "outputs": [],
   "source": [
    "df_test = df[df.x_type == \"molecule\"]\n",
    "df_test = df_test[df_test.x_idx == 1.0]"
   ]
  },
  {
   "cell_type": "code",
   "execution_count": 16,
   "metadata": {},
   "outputs": [],
   "source": [
    "df_train = pd.read_csv('./dataset_construction/train.csv')\n",
    "df_valid = pd.read_csv('./dataset_construction/valid.csv')\n",
    "df_test = pd.read_csv('./dataset_construction/test.csv')"
   ]
  },
  {
   "cell_type": "code",
   "execution_count": 16,
   "metadata": {},
   "outputs": [
    {
     "data": {
      "text/plain": [
       "array([['molecule', 'drug_protein', 'gene/protein'],\n",
       "       ['molecule', 'contraindication', 'disease'],\n",
       "       ['molecule', 'indication', 'disease'],\n",
       "       ['molecule', 'off-label use', 'disease'],\n",
       "       ['molecule', 'drug_drug', 'molecule'],\n",
       "       ['molecule', 'drug_effect', 'effect/phenotype'],\n",
       "       ['molecule', 'defined_atom_stereo_count', 'value'],\n",
       "       ['molecule', 'exact_mass', 'value'],\n",
       "       ['molecule', 'rotatable_bond_count', 'value'],\n",
       "       ['molecule', 'defined_bond_stereo_count', 'value'],\n",
       "       ['molecule', 'hydrogen_bond_acceptor_count', 'value'],\n",
       "       ['molecule', 'mono_isotopic_weight', 'value'],\n",
       "       ['molecule', 'structure_complexity', 'value'],\n",
       "       ['molecule', 'isotope_atom_count', 'value'],\n",
       "       ['molecule', 'hydrogen_bond_donor_count', 'value'],\n",
       "       ['molecule', 'total_formal_charge', 'value'],\n",
       "       ['molecule', 'non-hydrogen_atom_count', 'value'],\n",
       "       ['molecule', 'covalent_unit_count', 'value'],\n",
       "       ['molecule', 'undefined_atom_stereo_count', 'value'],\n",
       "       ['molecule', 'molecular_weight', 'value'],\n",
       "       ['molecule', 'undefined_bond_stereo_count', 'value'],\n",
       "       ['molecule', 'tautomer_count', 'value'],\n",
       "       ['molecule', 'tpsa', 'value'],\n",
       "       ['molecule', 'xlogp3-aa', 'value'],\n",
       "       ['molecule', 'xlogp3', 'value'],\n",
       "       ['molecule', 'cooccurence_molecule_molecule', 'molecule'],\n",
       "       ['molecule', 'cooccurence_molecule_disease', 'disease'],\n",
       "       ['molecule', 'cooccurence_molecule_gene/protein', 'gene/protein'],\n",
       "       ['molecule', 'neighbor_2d', 'molecule'],\n",
       "       ['molecule', 'neighbor_3d', 'molecule'],\n",
       "       ['molecule', 'has_same_connectivity', 'molecule'],\n",
       "       ['molecule', 'has_component', 'molecule'],\n",
       "       ['molecule', 'has_isotopologue', 'molecule'],\n",
       "       ['molecule', 'has_parent', 'molecule'],\n",
       "       ['molecule', 'has_stereoisomer', 'molecule'],\n",
       "       ['molecule', 'to_drug', 'drug'],\n",
       "       ['molecule', 'type', 'drug'],\n",
       "       ['molecule', 'in_pathway', 'pathway'],\n",
       "       ['gene/protein', 'rev_drug_protein', 'molecule'],\n",
       "       ['disease', 'rev_contraindication', 'molecule'],\n",
       "       ['disease', 'rev_indication', 'molecule'],\n",
       "       ['disease', 'rev_off-label use', 'molecule'],\n",
       "       ['effect/phenotype', 'rev_drug_effect', 'molecule'],\n",
       "       ['value', 'rev_defined_atom_stereo_count', 'molecule'],\n",
       "       ['value', 'rev_exact_mass', 'molecule'],\n",
       "       ['value', 'rev_rotatable_bond_count', 'molecule'],\n",
       "       ['value', 'rev_defined_bond_stereo_count', 'molecule'],\n",
       "       ['value', 'rev_hydrogen_bond_acceptor_count', 'molecule'],\n",
       "       ['value', 'rev_mono_isotopic_weight', 'molecule'],\n",
       "       ['value', 'rev_structure_complexity', 'molecule'],\n",
       "       ['value', 'rev_isotope_atom_count', 'molecule'],\n",
       "       ['value', 'rev_hydrogen_bond_donor_count', 'molecule'],\n",
       "       ['value', 'rev_total_formal_charge', 'molecule'],\n",
       "       ['value', 'rev_non-hydrogen_atom_count', 'molecule'],\n",
       "       ['value', 'rev_covalent_unit_count', 'molecule'],\n",
       "       ['value', 'rev_undefined_atom_stereo_count', 'molecule'],\n",
       "       ['value', 'rev_molecular_weight', 'molecule'],\n",
       "       ['value', 'rev_undefined_bond_stereo_count', 'molecule'],\n",
       "       ['value', 'rev_tautomer_count', 'molecule'],\n",
       "       ['value', 'rev_tpsa', 'molecule'],\n",
       "       ['value', 'rev_xlogp3-aa', 'molecule'],\n",
       "       ['value', 'rev_xlogp3', 'molecule'],\n",
       "       ['disease', 'rev_cooccurence_molecule_disease', 'molecule'],\n",
       "       ['gene/protein', 'rev_cooccurence_molecule_gene/protein',\n",
       "        'molecule'],\n",
       "       ['drug', 'rev_to_drug', 'molecule'],\n",
       "       ['drug', 'rev_type', 'molecule'],\n",
       "       ['pathway', 'rev_in_pathway', 'molecule']], dtype=object)"
      ]
     },
     "execution_count": 16,
     "metadata": {},
     "output_type": "execute_result"
    }
   ],
   "source": [
    "## create_dgl_graph\n",
    "unique_graph = df_train[['x_type', 'relation', 'y_type']].drop_duplicates()\n",
    "unique_graph.values\n"
   ]
  },
  {
   "cell_type": "code",
   "execution_count": 17,
   "metadata": {},
   "outputs": [],
   "source": [
    "DGL_input = {}\n",
    "for i in unique_graph.values:\n",
    "    o = df_train[(df_train.x_type == i[0]) & (df_train.relation == i[1]) & (df_train.y_type == i[2])][['x_idx', 'y_idx']].values.T\n",
    "    triple_type = tuple(i)\n",
    "    if triple_type[1] == 'cooccurence' or triple_type[1] == 'rev_cooccurence':\n",
    "        triple_type = (triple_type[0], triple_type[1] + '_' + triple_type[0] + '_' + triple_type[2], triple_type[2])\n",
    "    DGL_input[triple_type] = (o[0].astype(int), o[1].astype(int))"
   ]
  },
  {
   "cell_type": "code",
   "execution_count": 18,
   "metadata": {},
   "outputs": [],
   "source": [
    "output = {k: len(v) for k, v in idx_map.items()}"
   ]
  },
  {
   "cell_type": "code",
   "execution_count": 19,
   "metadata": {},
   "outputs": [
    {
     "data": {
      "text/plain": [
       "{'disease': 4173,\n",
       " 'drug': 40543,\n",
       " 'effect/phenotype': 990,\n",
       " 'gene/protein': 13091,\n",
       " 'molecule': 88811,\n",
       " 'pathway': 35763,\n",
       " 'value': 10}"
      ]
     },
     "execution_count": 19,
     "metadata": {},
     "output_type": "execute_result"
    }
   ],
   "source": [
    "output"
   ]
  },
  {
   "cell_type": "code",
   "execution_count": 20,
   "metadata": {},
   "outputs": [
    {
     "name": "stdout",
     "output_type": "stream",
     "text": [
      "t_type value\n",
      "('molecule', 'defined_atom_stereo_count', 'value')\n",
      "15766\n",
      "t_type value\n",
      "('molecule', 'exact_mass', 'value')\n",
      "16212\n",
      "t_type value\n",
      "('molecule', 'rotatable_bond_count', 'value')\n",
      "16037\n",
      "t_type value\n",
      "('molecule', 'defined_bond_stereo_count', 'value')\n",
      "15766\n",
      "t_type value\n",
      "('molecule', 'hydrogen_bond_acceptor_count', 'value')\n",
      "16081\n",
      "t_type value\n",
      "('molecule', 'mono_isotopic_weight', 'value')\n",
      "16211\n",
      "t_type value\n",
      "('molecule', 'structure_complexity', 'value')\n",
      "16218\n",
      "t_type value\n",
      "('molecule', 'isotope_atom_count', 'value')\n",
      "13891\n",
      "t_type value\n",
      "('molecule', 'hydrogen_bond_donor_count', 'value')\n",
      "15766\n",
      "t_type value\n",
      "('molecule', 'total_formal_charge', 'value')\n",
      "10675\n",
      "t_type value\n",
      "('molecule', 'non-hydrogen_atom_count', 'value')\n",
      "16133\n",
      "t_type value\n",
      "('molecule', 'covalent_unit_count', 'value')\n",
      "15766\n",
      "t_type value\n",
      "('molecule', 'undefined_atom_stereo_count', 'value')\n",
      "15766\n",
      "t_type value\n",
      "('molecule', 'molecular_weight', 'value')\n",
      "16204\n",
      "t_type value\n",
      "('molecule', 'undefined_bond_stereo_count', 'value')\n",
      "15220\n",
      "t_type value\n",
      "('molecule', 'tautomer_count', 'value')\n",
      "16218\n",
      "t_type value\n",
      "('molecule', 'tpsa', 'value')\n",
      "16197\n",
      "t_type value\n",
      "('molecule', 'xlogp3-aa', 'value')\n",
      "15777\n",
      "t_type value\n",
      "('molecule', 'xlogp3', 'value')\n",
      "15777\n",
      "h_type:  value\n",
      "('value', 'rev_defined_atom_stereo_count', 'molecule')\n",
      "15766\n",
      "h_type:  value\n",
      "('value', 'rev_exact_mass', 'molecule')\n",
      "16212\n",
      "h_type:  value\n",
      "('value', 'rev_rotatable_bond_count', 'molecule')\n",
      "16037\n",
      "h_type:  value\n",
      "('value', 'rev_defined_bond_stereo_count', 'molecule')\n",
      "15766\n",
      "h_type:  value\n",
      "('value', 'rev_hydrogen_bond_acceptor_count', 'molecule')\n",
      "16081\n",
      "h_type:  value\n",
      "('value', 'rev_mono_isotopic_weight', 'molecule')\n",
      "16211\n",
      "h_type:  value\n",
      "('value', 'rev_structure_complexity', 'molecule')\n",
      "16218\n",
      "h_type:  value\n",
      "('value', 'rev_isotope_atom_count', 'molecule')\n",
      "13891\n",
      "h_type:  value\n",
      "('value', 'rev_hydrogen_bond_donor_count', 'molecule')\n",
      "15766\n",
      "h_type:  value\n",
      "('value', 'rev_total_formal_charge', 'molecule')\n",
      "10675\n",
      "h_type:  value\n",
      "('value', 'rev_non-hydrogen_atom_count', 'molecule')\n",
      "16133\n",
      "h_type:  value\n",
      "('value', 'rev_covalent_unit_count', 'molecule')\n",
      "15766\n",
      "h_type:  value\n",
      "('value', 'rev_undefined_atom_stereo_count', 'molecule')\n",
      "15766\n",
      "h_type:  value\n",
      "('value', 'rev_molecular_weight', 'molecule')\n",
      "16204\n",
      "h_type:  value\n",
      "('value', 'rev_undefined_bond_stereo_count', 'molecule')\n",
      "15220\n",
      "h_type:  value\n",
      "('value', 'rev_tautomer_count', 'molecule')\n",
      "16218\n",
      "h_type:  value\n",
      "('value', 'rev_tpsa', 'molecule')\n",
      "16197\n",
      "h_type:  value\n",
      "('value', 'rev_xlogp3-aa', 'molecule')\n",
      "15777\n",
      "h_type:  value\n",
      "('value', 'rev_xlogp3', 'molecule')\n",
      "15777\n"
     ]
    }
   ],
   "source": [
    "num_nodes_dict = {i: int(output[i])+3 for i in output.keys()}\n",
    "\n",
    "for k, v in DGL_input.items():\n",
    "    h_type = k[0]\n",
    "    t_type = k[2]\n",
    "    h_array = v[0]\n",
    "    t_array = v[1]\n",
    "    h_max = max(h_array)\n",
    "    t_max = max(t_array)\n",
    "    if h_max > num_nodes_dict[h_type]:\n",
    "        print('h_type: ', h_type)\n",
    "        print(k)\n",
    "        print(h_max)\n",
    "    if t_max > num_nodes_dict[t_type]:\n",
    "        print('t_type', t_type)\n",
    "        print(k)\n",
    "        print(t_max)\n",
    "\n",
    "\n",
    "## issue: 共用了cooccurrence"
   ]
  },
  {
   "cell_type": "code",
   "execution_count": 21,
   "metadata": {},
   "outputs": [
    {
     "data": {
      "text/plain": [
       "{'disease': 4174,\n",
       " 'drug': 40544,\n",
       " 'effect/phenotype': 991,\n",
       " 'gene/protein': 13092,\n",
       " 'molecule': 88812,\n",
       " 'pathway': 35764,\n",
       " 'value': 11}"
      ]
     },
     "execution_count": 21,
     "metadata": {},
     "output_type": "execute_result"
    }
   ],
   "source": [
    "{i: int(output[i])+1 for i in output.keys()}"
   ]
  },
  {
   "cell_type": "code",
   "execution_count": 22,
   "metadata": {},
   "outputs": [
    {
     "ename": "DGLError",
     "evalue": "The given number of nodes of node type molecule must be larger than the max ID in the data, but got 11 and 15766.",
     "output_type": "error",
     "traceback": [
      "\u001b[0;31m---------------------------------------------------------------------------\u001b[0m",
      "\u001b[0;31mDGLError\u001b[0m                                  Traceback (most recent call last)",
      "Cell \u001b[0;32mIn[22], line 1\u001b[0m\n\u001b[0;32m----> 1\u001b[0m g \u001b[39m=\u001b[39m dgl\u001b[39m.\u001b[39;49mheterograph(DGL_input, num_nodes_dict\u001b[39m=\u001b[39;49m{i: \u001b[39mint\u001b[39;49m(output[i])\u001b[39m+\u001b[39;49m\u001b[39m1\u001b[39;49m \u001b[39mfor\u001b[39;49;00m i \u001b[39min\u001b[39;49;00m output\u001b[39m.\u001b[39;49mkeys()})\n",
      "File \u001b[0;32m~/miniconda3/envs/txgnn_env/lib/python3.8/site-packages/dgl/convert.py:320\u001b[0m, in \u001b[0;36mheterograph\u001b[0;34m(data_dict, num_nodes_dict, idtype, device)\u001b[0m\n\u001b[1;32m    316\u001b[0m             \u001b[39mraise\u001b[39;00m DGLError(\u001b[39m'\u001b[39m\u001b[39mThe given number of nodes of node type \u001b[39m\u001b[39m{}\u001b[39;00m\u001b[39m must be larger than\u001b[39m\u001b[39m'\u001b[39m\n\u001b[1;32m    317\u001b[0m                            \u001b[39m'\u001b[39m\u001b[39m the max ID in the data, but got \u001b[39m\u001b[39m{}\u001b[39;00m\u001b[39m and \u001b[39m\u001b[39m{}\u001b[39;00m\u001b[39m.\u001b[39m\u001b[39m'\u001b[39m\u001b[39m.\u001b[39mformat(\n\u001b[1;32m    318\u001b[0m                                sty, num_nodes_dict[sty], urange \u001b[39m-\u001b[39m \u001b[39m1\u001b[39m))\n\u001b[1;32m    319\u001b[0m         \u001b[39mif\u001b[39;00m num_nodes_dict[dty] \u001b[39m<\u001b[39m vrange:\n\u001b[0;32m--> 320\u001b[0m             \u001b[39mraise\u001b[39;00m DGLError(\u001b[39m'\u001b[39m\u001b[39mThe given number of nodes of node type \u001b[39m\u001b[39m{}\u001b[39;00m\u001b[39m must be larger than\u001b[39m\u001b[39m'\u001b[39m\n\u001b[1;32m    321\u001b[0m                            \u001b[39m'\u001b[39m\u001b[39m the max ID in the data, but got \u001b[39m\u001b[39m{}\u001b[39;00m\u001b[39m and \u001b[39m\u001b[39m{}\u001b[39;00m\u001b[39m.\u001b[39m\u001b[39m'\u001b[39m\u001b[39m.\u001b[39mformat(\n\u001b[1;32m    322\u001b[0m                                sty, num_nodes_dict[dty], vrange \u001b[39m-\u001b[39m \u001b[39m1\u001b[39m))\n\u001b[1;32m    323\u001b[0m \u001b[39m# Create the graph\u001b[39;00m\n\u001b[1;32m    324\u001b[0m \n\u001b[1;32m    325\u001b[0m \u001b[39m# Sort the ntypes and relation tuples to have a deterministic order for the same set\u001b[39;00m\n\u001b[1;32m    326\u001b[0m \u001b[39m# of type names.\u001b[39;00m\n\u001b[1;32m    327\u001b[0m ntypes \u001b[39m=\u001b[39m \u001b[39mlist\u001b[39m(\u001b[39msorted\u001b[39m(num_nodes_dict\u001b[39m.\u001b[39mkeys()))\n",
      "\u001b[0;31mDGLError\u001b[0m: The given number of nodes of node type molecule must be larger than the max ID in the data, but got 11 and 15766."
     ]
    }
   ],
   "source": [
    "g = dgl.heterograph(DGL_input, num_nodes_dict={i: int(output[i])+1 for i in output.keys()})"
   ]
  },
  {
   "cell_type": "code",
   "execution_count": null,
   "metadata": {},
   "outputs": [],
   "source": [
    "import torch\n",
    "\n",
    "node_dict = {}\n",
    "edge_dict = {}\n",
    "for ntype in g.ntypes:\n",
    "    node_dict[ntype] = len(node_dict)\n",
    "for etype in g.etypes:\n",
    "    edge_dict[etype] = len(edge_dict)\n",
    "    g.edges[etype].data['id'] = torch.ones(g.number_of_edges(etype), dtype=torch.long) * edge_dict[etype] "
   ]
  },
  {
   "cell_type": "code",
   "execution_count": null,
   "metadata": {},
   "outputs": [
    {
     "data": {
      "text/plain": [
       "tensor([2, 2, 2,  ..., 2, 2, 2])"
      ]
     },
     "execution_count": 22,
     "metadata": {},
     "output_type": "execute_result"
    }
   ],
   "source": [
    "g.edges[g.etypes[2]].data['id']"
   ]
  },
  {
   "cell_type": "code",
   "execution_count": null,
   "metadata": {},
   "outputs": [
    {
     "name": "stdout",
     "output_type": "stream",
     "text": [
      "Found local copy...\n",
      "Found local copy...\n",
      "Found local copy...\n",
      "Found saved processed KG... Loading...\n",
      "Splits detected... Loading splits....\n",
      "Creating DGL graph....\n"
     ]
    },
    {
     "ename": "KeyboardInterrupt",
     "evalue": "",
     "output_type": "error",
     "traceback": [
      "\u001b[0;31m---------------------------------------------------------------------------\u001b[0m",
      "\u001b[0;31mKeyboardInterrupt\u001b[0m                         Traceback (most recent call last)",
      "Cell \u001b[0;32mIn[23], line 4\u001b[0m\n\u001b[1;32m      1\u001b[0m \u001b[39mfrom\u001b[39;00m \u001b[39mdataset_construction\u001b[39;00m \u001b[39mimport\u001b[39;00m TxData\n\u001b[1;32m      3\u001b[0m TxData \u001b[39m=\u001b[39m TxData(data_folder_path \u001b[39m=\u001b[39m \u001b[39m'\u001b[39m\u001b[39m/data/pj20/txgnn/kg/\u001b[39m\u001b[39m'\u001b[39m)\n\u001b[0;32m----> 4\u001b[0m TxData\u001b[39m.\u001b[39;49mprepare_split(split \u001b[39m=\u001b[39;49m \u001b[39m'\u001b[39;49m\u001b[39mfull_graph\u001b[39;49m\u001b[39m'\u001b[39;49m, seed \u001b[39m=\u001b[39;49m \u001b[39m42\u001b[39;49m, no_kg \u001b[39m=\u001b[39;49m \u001b[39mFalse\u001b[39;49;00m)\n",
      "File \u001b[0;32m~/gode/dataset_construction/TxData.py:91\u001b[0m, in \u001b[0;36mTxData.prepare_split\u001b[0;34m(self, split, disease_eval_idx, seed, no_kg)\u001b[0m\n\u001b[1;32m     89\u001b[0m \u001b[39mprint\u001b[39m(\u001b[39m'\u001b[39m\u001b[39mCreating DGL graph....\u001b[39m\u001b[39m'\u001b[39m)\n\u001b[1;32m     90\u001b[0m \u001b[39m# create dgl graph\u001b[39;00m\n\u001b[0;32m---> 91\u001b[0m g \u001b[39m=\u001b[39m create_dgl_graph(df_train, df)\n\u001b[1;32m     93\u001b[0m \u001b[39mself\u001b[39m\u001b[39m.\u001b[39mG \u001b[39m=\u001b[39m g         \n\u001b[1;32m     94\u001b[0m \u001b[39mself\u001b[39m\u001b[39m.\u001b[39mdf, \u001b[39mself\u001b[39m\u001b[39m.\u001b[39mdf_train, \u001b[39mself\u001b[39m\u001b[39m.\u001b[39mdf_valid, \u001b[39mself\u001b[39m\u001b[39m.\u001b[39mdf_test \u001b[39m=\u001b[39m df, df_train, df_valid, df_test\n",
      "File \u001b[0;32m~/gode/dataset_construction/utils.py:750\u001b[0m, in \u001b[0;36mcreate_dgl_graph\u001b[0;34m(df_train, df)\u001b[0m\n\u001b[1;32m    748\u001b[0m DGL_input \u001b[39m=\u001b[39m {}\n\u001b[1;32m    749\u001b[0m \u001b[39mfor\u001b[39;00m i \u001b[39min\u001b[39;00m unique_graph\u001b[39m.\u001b[39mvalues:\n\u001b[0;32m--> 750\u001b[0m     o \u001b[39m=\u001b[39m df_train[df_train\u001b[39m.\u001b[39;49mrelation \u001b[39m==\u001b[39;49m i[\u001b[39m1\u001b[39;49m]][[\u001b[39m'\u001b[39m\u001b[39mx_idx\u001b[39m\u001b[39m'\u001b[39m, \u001b[39m'\u001b[39m\u001b[39my_idx\u001b[39m\u001b[39m'\u001b[39m]]\u001b[39m.\u001b[39mvalues\u001b[39m.\u001b[39mT\n\u001b[1;32m    751\u001b[0m     DGL_input[\u001b[39mtuple\u001b[39m(i)] \u001b[39m=\u001b[39m (o[\u001b[39m0\u001b[39m]\u001b[39m.\u001b[39mastype(\u001b[39mint\u001b[39m), o[\u001b[39m1\u001b[39m]\u001b[39m.\u001b[39mastype(\u001b[39mint\u001b[39m))\n\u001b[1;32m    753\u001b[0m temp \u001b[39m=\u001b[39m \u001b[39mdict\u001b[39m(df\u001b[39m.\u001b[39mgroupby(\u001b[39m'\u001b[39m\u001b[39mx_type\u001b[39m\u001b[39m'\u001b[39m)[\u001b[39m'\u001b[39m\u001b[39mx_idx\u001b[39m\u001b[39m'\u001b[39m]\u001b[39m.\u001b[39mmax())\n",
      "File \u001b[0;32m~/miniconda3/envs/txgnn_env/lib/python3.8/site-packages/pandas/core/frame.py:3798\u001b[0m, in \u001b[0;36mDataFrame.__getitem__\u001b[0;34m(self, key)\u001b[0m\n\u001b[1;32m   3796\u001b[0m \u001b[39m# Do we have a (boolean) 1d indexer?\u001b[39;00m\n\u001b[1;32m   3797\u001b[0m \u001b[39mif\u001b[39;00m com\u001b[39m.\u001b[39mis_bool_indexer(key):\n\u001b[0;32m-> 3798\u001b[0m     \u001b[39mreturn\u001b[39;00m \u001b[39mself\u001b[39;49m\u001b[39m.\u001b[39;49m_getitem_bool_array(key)\n\u001b[1;32m   3800\u001b[0m \u001b[39m# We are left with two options: a single key, and a collection of keys,\u001b[39;00m\n\u001b[1;32m   3801\u001b[0m \u001b[39m# We interpret tuples as collections only for non-MultiIndex\u001b[39;00m\n\u001b[1;32m   3802\u001b[0m is_single_key \u001b[39m=\u001b[39m \u001b[39misinstance\u001b[39m(key, \u001b[39mtuple\u001b[39m) \u001b[39mor\u001b[39;00m \u001b[39mnot\u001b[39;00m is_list_like(key)\n",
      "File \u001b[0;32m~/miniconda3/envs/txgnn_env/lib/python3.8/site-packages/pandas/core/frame.py:3853\u001b[0m, in \u001b[0;36mDataFrame._getitem_bool_array\u001b[0;34m(self, key)\u001b[0m\n\u001b[1;32m   3851\u001b[0m key \u001b[39m=\u001b[39m check_bool_indexer(\u001b[39mself\u001b[39m\u001b[39m.\u001b[39mindex, key)\n\u001b[1;32m   3852\u001b[0m indexer \u001b[39m=\u001b[39m key\u001b[39m.\u001b[39mnonzero()[\u001b[39m0\u001b[39m]\n\u001b[0;32m-> 3853\u001b[0m \u001b[39mreturn\u001b[39;00m \u001b[39mself\u001b[39;49m\u001b[39m.\u001b[39;49m_take_with_is_copy(indexer, axis\u001b[39m=\u001b[39;49m\u001b[39m0\u001b[39;49m)\n",
      "File \u001b[0;32m~/miniconda3/envs/txgnn_env/lib/python3.8/site-packages/pandas/core/generic.py:3902\u001b[0m, in \u001b[0;36mNDFrame._take_with_is_copy\u001b[0;34m(self, indices, axis)\u001b[0m\n\u001b[1;32m   3894\u001b[0m \u001b[39mdef\u001b[39;00m \u001b[39m_take_with_is_copy\u001b[39m(\u001b[39mself\u001b[39m: NDFrameT, indices, axis\u001b[39m=\u001b[39m\u001b[39m0\u001b[39m) \u001b[39m-\u001b[39m\u001b[39m>\u001b[39m NDFrameT:\n\u001b[1;32m   3895\u001b[0m \u001b[39m    \u001b[39m\u001b[39m\"\"\"\u001b[39;00m\n\u001b[1;32m   3896\u001b[0m \u001b[39m    Internal version of the `take` method that sets the `_is_copy`\u001b[39;00m\n\u001b[1;32m   3897\u001b[0m \u001b[39m    attribute to keep track of the parent dataframe (using in indexing\u001b[39;00m\n\u001b[0;32m   (...)\u001b[0m\n\u001b[1;32m   3900\u001b[0m \u001b[39m    See the docstring of `take` for full explanation of the parameters.\u001b[39;00m\n\u001b[1;32m   3901\u001b[0m \u001b[39m    \"\"\"\u001b[39;00m\n\u001b[0;32m-> 3902\u001b[0m     result \u001b[39m=\u001b[39m \u001b[39mself\u001b[39;49m\u001b[39m.\u001b[39;49m_take(indices\u001b[39m=\u001b[39;49mindices, axis\u001b[39m=\u001b[39;49maxis)\n\u001b[1;32m   3903\u001b[0m     \u001b[39m# Maybe set copy if we didn't actually change the index.\u001b[39;00m\n\u001b[1;32m   3904\u001b[0m     \u001b[39mif\u001b[39;00m \u001b[39mnot\u001b[39;00m result\u001b[39m.\u001b[39m_get_axis(axis)\u001b[39m.\u001b[39mequals(\u001b[39mself\u001b[39m\u001b[39m.\u001b[39m_get_axis(axis)):\n",
      "File \u001b[0;32m~/miniconda3/envs/txgnn_env/lib/python3.8/site-packages/pandas/core/generic.py:3886\u001b[0m, in \u001b[0;36mNDFrame._take\u001b[0;34m(self, indices, axis, convert_indices)\u001b[0m\n\u001b[1;32m   3879\u001b[0m \u001b[39m\u001b[39m\u001b[39m\"\"\"\u001b[39;00m\n\u001b[1;32m   3880\u001b[0m \u001b[39mInternal version of the `take` allowing specification of additional args.\u001b[39;00m\n\u001b[1;32m   3881\u001b[0m \n\u001b[1;32m   3882\u001b[0m \u001b[39mSee the docstring of `take` for full explanation of the parameters.\u001b[39;00m\n\u001b[1;32m   3883\u001b[0m \u001b[39m\"\"\"\u001b[39;00m\n\u001b[1;32m   3884\u001b[0m \u001b[39mself\u001b[39m\u001b[39m.\u001b[39m_consolidate_inplace()\n\u001b[0;32m-> 3886\u001b[0m new_data \u001b[39m=\u001b[39m \u001b[39mself\u001b[39;49m\u001b[39m.\u001b[39;49m_mgr\u001b[39m.\u001b[39;49mtake(\n\u001b[1;32m   3887\u001b[0m     indices,\n\u001b[1;32m   3888\u001b[0m     axis\u001b[39m=\u001b[39;49m\u001b[39mself\u001b[39;49m\u001b[39m.\u001b[39;49m_get_block_manager_axis(axis),\n\u001b[1;32m   3889\u001b[0m     verify\u001b[39m=\u001b[39;49m\u001b[39mTrue\u001b[39;49;00m,\n\u001b[1;32m   3890\u001b[0m     convert_indices\u001b[39m=\u001b[39;49mconvert_indices,\n\u001b[1;32m   3891\u001b[0m )\n\u001b[1;32m   3892\u001b[0m \u001b[39mreturn\u001b[39;00m \u001b[39mself\u001b[39m\u001b[39m.\u001b[39m_constructor(new_data)\u001b[39m.\u001b[39m__finalize__(\u001b[39mself\u001b[39m, method\u001b[39m=\u001b[39m\u001b[39m\"\u001b[39m\u001b[39mtake\u001b[39m\u001b[39m\"\u001b[39m)\n",
      "File \u001b[0;32m~/miniconda3/envs/txgnn_env/lib/python3.8/site-packages/pandas/core/internals/managers.py:978\u001b[0m, in \u001b[0;36mBaseBlockManager.take\u001b[0;34m(self, indexer, axis, verify, convert_indices)\u001b[0m\n\u001b[1;32m    975\u001b[0m     indexer \u001b[39m=\u001b[39m maybe_convert_indices(indexer, n, verify\u001b[39m=\u001b[39mverify)\n\u001b[1;32m    977\u001b[0m new_labels \u001b[39m=\u001b[39m \u001b[39mself\u001b[39m\u001b[39m.\u001b[39maxes[axis]\u001b[39m.\u001b[39mtake(indexer)\n\u001b[0;32m--> 978\u001b[0m \u001b[39mreturn\u001b[39;00m \u001b[39mself\u001b[39;49m\u001b[39m.\u001b[39;49mreindex_indexer(\n\u001b[1;32m    979\u001b[0m     new_axis\u001b[39m=\u001b[39;49mnew_labels,\n\u001b[1;32m    980\u001b[0m     indexer\u001b[39m=\u001b[39;49mindexer,\n\u001b[1;32m    981\u001b[0m     axis\u001b[39m=\u001b[39;49maxis,\n\u001b[1;32m    982\u001b[0m     allow_dups\u001b[39m=\u001b[39;49m\u001b[39mTrue\u001b[39;49;00m,\n\u001b[1;32m    983\u001b[0m     copy\u001b[39m=\u001b[39;49m\u001b[39mNone\u001b[39;49;00m,\n\u001b[1;32m    984\u001b[0m )\n",
      "File \u001b[0;32m~/miniconda3/envs/txgnn_env/lib/python3.8/site-packages/pandas/core/internals/managers.py:751\u001b[0m, in \u001b[0;36mBaseBlockManager.reindex_indexer\u001b[0;34m(self, new_axis, indexer, axis, fill_value, allow_dups, copy, only_slice, use_na_proxy)\u001b[0m\n\u001b[1;32m    749\u001b[0m     parent \u001b[39m=\u001b[39m \u001b[39mNone\u001b[39;00m \u001b[39mif\u001b[39;00m com\u001b[39m.\u001b[39mall_none(\u001b[39m*\u001b[39mnew_refs) \u001b[39melse\u001b[39;00m \u001b[39mself\u001b[39m\n\u001b[1;32m    750\u001b[0m \u001b[39melse\u001b[39;00m:\n\u001b[0;32m--> 751\u001b[0m     new_blocks \u001b[39m=\u001b[39m [\n\u001b[1;32m    752\u001b[0m         blk\u001b[39m.\u001b[39mtake_nd(\n\u001b[1;32m    753\u001b[0m             indexer,\n\u001b[1;32m    754\u001b[0m             axis\u001b[39m=\u001b[39m\u001b[39m1\u001b[39m,\n\u001b[1;32m    755\u001b[0m             fill_value\u001b[39m=\u001b[39m(\n\u001b[1;32m    756\u001b[0m                 fill_value \u001b[39mif\u001b[39;00m fill_value \u001b[39mis\u001b[39;00m \u001b[39mnot\u001b[39;00m \u001b[39mNone\u001b[39;00m \u001b[39melse\u001b[39;00m blk\u001b[39m.\u001b[39mfill_value\n\u001b[1;32m    757\u001b[0m             ),\n\u001b[1;32m    758\u001b[0m         )\n\u001b[1;32m    759\u001b[0m         \u001b[39mfor\u001b[39;00m blk \u001b[39min\u001b[39;00m \u001b[39mself\u001b[39m\u001b[39m.\u001b[39mblocks\n\u001b[1;32m    760\u001b[0m     ]\n\u001b[1;32m    761\u001b[0m     new_refs \u001b[39m=\u001b[39m \u001b[39mNone\u001b[39;00m\n\u001b[1;32m    762\u001b[0m     parent \u001b[39m=\u001b[39m \u001b[39mNone\u001b[39;00m\n",
      "File \u001b[0;32m~/miniconda3/envs/txgnn_env/lib/python3.8/site-packages/pandas/core/internals/managers.py:752\u001b[0m, in \u001b[0;36m<listcomp>\u001b[0;34m(.0)\u001b[0m\n\u001b[1;32m    749\u001b[0m     parent \u001b[39m=\u001b[39m \u001b[39mNone\u001b[39;00m \u001b[39mif\u001b[39;00m com\u001b[39m.\u001b[39mall_none(\u001b[39m*\u001b[39mnew_refs) \u001b[39melse\u001b[39;00m \u001b[39mself\u001b[39m\n\u001b[1;32m    750\u001b[0m \u001b[39melse\u001b[39;00m:\n\u001b[1;32m    751\u001b[0m     new_blocks \u001b[39m=\u001b[39m [\n\u001b[0;32m--> 752\u001b[0m         blk\u001b[39m.\u001b[39;49mtake_nd(\n\u001b[1;32m    753\u001b[0m             indexer,\n\u001b[1;32m    754\u001b[0m             axis\u001b[39m=\u001b[39;49m\u001b[39m1\u001b[39;49m,\n\u001b[1;32m    755\u001b[0m             fill_value\u001b[39m=\u001b[39;49m(\n\u001b[1;32m    756\u001b[0m                 fill_value \u001b[39mif\u001b[39;49;00m fill_value \u001b[39mis\u001b[39;49;00m \u001b[39mnot\u001b[39;49;00m \u001b[39mNone\u001b[39;49;00m \u001b[39melse\u001b[39;49;00m blk\u001b[39m.\u001b[39;49mfill_value\n\u001b[1;32m    757\u001b[0m             ),\n\u001b[1;32m    758\u001b[0m         )\n\u001b[1;32m    759\u001b[0m         \u001b[39mfor\u001b[39;00m blk \u001b[39min\u001b[39;00m \u001b[39mself\u001b[39m\u001b[39m.\u001b[39mblocks\n\u001b[1;32m    760\u001b[0m     ]\n\u001b[1;32m    761\u001b[0m     new_refs \u001b[39m=\u001b[39m \u001b[39mNone\u001b[39;00m\n\u001b[1;32m    762\u001b[0m     parent \u001b[39m=\u001b[39m \u001b[39mNone\u001b[39;00m\n",
      "File \u001b[0;32m~/miniconda3/envs/txgnn_env/lib/python3.8/site-packages/pandas/core/internals/blocks.py:880\u001b[0m, in \u001b[0;36mBlock.take_nd\u001b[0;34m(self, indexer, axis, new_mgr_locs, fill_value)\u001b[0m\n\u001b[1;32m    877\u001b[0m     allow_fill \u001b[39m=\u001b[39m \u001b[39mTrue\u001b[39;00m\n\u001b[1;32m    879\u001b[0m \u001b[39m# Note: algos.take_nd has upcast logic similar to coerce_to_target_dtype\u001b[39;00m\n\u001b[0;32m--> 880\u001b[0m new_values \u001b[39m=\u001b[39m algos\u001b[39m.\u001b[39;49mtake_nd(\n\u001b[1;32m    881\u001b[0m     values, indexer, axis\u001b[39m=\u001b[39;49maxis, allow_fill\u001b[39m=\u001b[39;49mallow_fill, fill_value\u001b[39m=\u001b[39;49mfill_value\n\u001b[1;32m    882\u001b[0m )\n\u001b[1;32m    884\u001b[0m \u001b[39m# Called from three places in managers, all of which satisfy\u001b[39;00m\n\u001b[1;32m    885\u001b[0m \u001b[39m#  this assertion\u001b[39;00m\n\u001b[1;32m    886\u001b[0m \u001b[39massert\u001b[39;00m \u001b[39mnot\u001b[39;00m (axis \u001b[39m==\u001b[39m \u001b[39m0\u001b[39m \u001b[39mand\u001b[39;00m new_mgr_locs \u001b[39mis\u001b[39;00m \u001b[39mNone\u001b[39;00m)\n",
      "File \u001b[0;32m~/miniconda3/envs/txgnn_env/lib/python3.8/site-packages/pandas/core/array_algos/take.py:117\u001b[0m, in \u001b[0;36mtake_nd\u001b[0;34m(arr, indexer, axis, fill_value, allow_fill)\u001b[0m\n\u001b[1;32m    114\u001b[0m     \u001b[39mreturn\u001b[39;00m arr\u001b[39m.\u001b[39mtake(indexer, fill_value\u001b[39m=\u001b[39mfill_value, allow_fill\u001b[39m=\u001b[39mallow_fill)\n\u001b[1;32m    116\u001b[0m arr \u001b[39m=\u001b[39m np\u001b[39m.\u001b[39masarray(arr)\n\u001b[0;32m--> 117\u001b[0m \u001b[39mreturn\u001b[39;00m _take_nd_ndarray(arr, indexer, axis, fill_value, allow_fill)\n",
      "File \u001b[0;32m~/miniconda3/envs/txgnn_env/lib/python3.8/site-packages/pandas/core/array_algos/take.py:163\u001b[0m, in \u001b[0;36m_take_nd_ndarray\u001b[0;34m(arr, indexer, axis, fill_value, allow_fill)\u001b[0m\n\u001b[1;32m    158\u001b[0m     out \u001b[39m=\u001b[39m np\u001b[39m.\u001b[39mempty(out_shape, dtype\u001b[39m=\u001b[39mdtype)\n\u001b[1;32m    160\u001b[0m func \u001b[39m=\u001b[39m _get_take_nd_function(\n\u001b[1;32m    161\u001b[0m     arr\u001b[39m.\u001b[39mndim, arr\u001b[39m.\u001b[39mdtype, out\u001b[39m.\u001b[39mdtype, axis\u001b[39m=\u001b[39maxis, mask_info\u001b[39m=\u001b[39mmask_info\n\u001b[1;32m    162\u001b[0m )\n\u001b[0;32m--> 163\u001b[0m func(arr, indexer, out, fill_value)\n\u001b[1;32m    165\u001b[0m \u001b[39mif\u001b[39;00m flip_order:\n\u001b[1;32m    166\u001b[0m     out \u001b[39m=\u001b[39m out\u001b[39m.\u001b[39mT\n",
      "\u001b[0;31mKeyboardInterrupt\u001b[0m: "
     ]
    }
   ],
   "source": [
    "from dataset_construction import TxData\n",
    "\n",
    "TxData = TxData(data_folder_path = '/data/pj20/txgnn/kg/')\n",
    "TxData.prepare_split(split = 'full_graph', seed = 42, no_kg = False)"
   ]
  },
  {
   "cell_type": "code",
   "execution_count": null,
   "metadata": {},
   "outputs": [],
   "source": [
    "from txgnn import TxGNN\n",
    "\n",
    "TxGNN = TxGNN(data = TxData, \n",
    "              weight_bias_track = False,\n",
    "              proj_name = 'TxGNN',\n",
    "              exp_name = 'TxGNN'\n",
    "              )\n"
   ]
  },
  {
   "cell_type": "code",
   "execution_count": null,
   "metadata": {},
   "outputs": [],
   "source": [
    "TxGNN.model_initialize(n_hid = 100, \n",
    "                      n_inp = 100, \n",
    "                      n_out = 100, \n",
    "                      proto = True,\n",
    "                      proto_num = 3,\n",
    "                      attention = False,\n",
    "                      sim_measure = 'all_nodes_profile',\n",
    "                      bert_measure = 'disease_name',\n",
    "                      agg_measure = 'rarity',\n",
    "                      num_walks = 200,\n",
    "                      walk_mode = 'bit',\n",
    "                      path_length = 2)"
   ]
  },
  {
   "cell_type": "code",
   "execution_count": null,
   "metadata": {},
   "outputs": [],
   "source": []
  },
  {
   "cell_type": "code",
   "execution_count": null,
   "metadata": {},
   "outputs": [
    {
     "data": {
      "text/plain": [
       "1"
      ]
     },
     "execution_count": 77,
     "metadata": {},
     "output_type": "execute_result"
    }
   ],
   "source": [
    "edge_dict[g.etypes[1]]"
   ]
  },
  {
   "cell_type": "code",
   "execution_count": null,
   "metadata": {},
   "outputs": [],
   "source": []
  }
 ],
 "metadata": {
  "kernelspec": {
   "display_name": "Python 3.8.16 ('txgnn_env')",
   "language": "python",
   "name": "python3"
  },
  "language_info": {
   "codemirror_mode": {
    "name": "ipython",
    "version": 3
   },
   "file_extension": ".py",
   "mimetype": "text/x-python",
   "name": "python",
   "nbconvert_exporter": "python",
   "pygments_lexer": "ipython3",
   "version": "3.8.16"
  },
  "orig_nbformat": 4,
  "vscode": {
   "interpreter": {
    "hash": "79cb95e61c4f960f4e102f21c45668d32cb5c494b237694c15d64b50342e6e99"
   }
  }
 },
 "nbformat": 4,
 "nbformat_minor": 2
}
