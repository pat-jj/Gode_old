{
 "cells": [
  {
   "cell_type": "code",
   "execution_count": 248,
   "metadata": {},
   "outputs": [
    {
     "name": "stdout",
     "output_type": "stream",
     "text": [
      "Loading entity type labels...\n",
      "Loading center molecule motifs...\n",
      "Loading entire knowledge graph...\n",
      "Loading molecule mask...\n"
     ]
    }
   ],
   "source": [
    "import json\n",
    "import networkx as nx\n",
    "import numpy as np\n",
    "import torch\n",
    "import KGNN\n",
    "from tqdm import tqdm\n",
    "from torch_geometric.utils import to_networkx, from_networkx\n",
    "from networkx.algorithms.traversal.breadth_first_search import bfs_edges\n",
    "from torch_geometric.data import Data\n",
    "\n",
    "\n",
    "# Data path\n",
    "data_path = '../data_process/pretrain_data'\n",
    "# Training Labels\n",
    "## Load entity type labels\n",
    "print('Loading entity type labels...')\n",
    "ent_type = torch.tensor(np.load(f'{data_path}/ent_type_onehot.npy')) # (num_ent, num_ent_type)\n",
    "\n",
    "## Load center molecule motifs\n",
    "print('Loading center molecule motifs...')\n",
    "motifs = []\n",
    "with open(f'{data_path}/id2motifs.json', 'r') as f:\n",
    "    id2motifs = json.load(f)\n",
    "motif_len = len(id2motifs['0'])\n",
    "for i in range(len(ent_type)):\n",
    "    if str(i) in id2motifs.keys():\n",
    "        motifs.append(np.array(id2motifs[str(i)]))\n",
    "    else:\n",
    "        motifs.append(np.array([0] * motif_len))\n",
    "\n",
    "motifs = torch.tensor(np.array(motifs), dtype=torch.long) # (num_ent, motif_len)\n",
    "\n",
    "## Center molecule ids\n",
    "center_molecule_ids = [int(key) for key in id2motifs.keys()]\n",
    "\n",
    "# Entire Knowledge Graph (MolKG)\n",
    "print('Loading entire knowledge graph...')\n",
    "G = nx.read_gpickle(f'{data_path}/graph.gpickle')\n",
    "G_tg = from_networkx(G)\n",
    "\n",
    "# molecule_mask\n",
    "print('Loading molecule mask...')\n",
    "molecule_mask = torch.tensor(ent_type[:,0][G_tg.edge_index[0]] == 1) # (num_edges,)"
   ]
  },
  {
   "cell_type": "code",
   "execution_count": 247,
   "metadata": {},
   "outputs": [
    {
     "data": {
      "text/plain": [
       "torch.Size([32022, 85])"
      ]
     },
     "execution_count": 247,
     "metadata": {},
     "output_type": "execute_result"
    }
   ],
   "source": [
    "motifs.shape"
   ]
  },
  {
   "cell_type": "code",
   "execution_count": 95,
   "metadata": {},
   "outputs": [],
   "source": [
    "from networkx.algorithms.traversal.breadth_first_search import bfs_edges\n",
    "from torch_geometric.utils import k_hop_subgraph\n",
    "\n",
    "def get_subgraph(G_nx, idx):    \n",
    "    # Prepare a subgraph with the specified center molecule\n",
    "    subgraph = nx.Graph()\n",
    "\n",
    "    # BFS, limit to 3 hops\n",
    "    bfs_tree = bfs_edges(G_nx, idx, depth_limit=2)\n",
    "    \n",
    "    for edge in bfs_tree:\n",
    "        node1, node2 = edge\n",
    "\n",
    "        # Stop extending if the node is not a molecule.\n",
    "        ## Case 1: node1 is molecule, node2 is not\n",
    "        if ent_type[node1][0] == 1 and ent_type[node2][0] != 1:\n",
    "            subgraph.add_edge(node1, node2, **G_nx.edges[edge])\n",
    "        ## Case 2: node1 is molecule, node2 is also molecule\n",
    "        elif (ent_type[node1][0] == 1) and (ent_type[node2][0] == 1):\n",
    "            subgraph.add_edge(node1, node2, **G_nx.edges[edge])\n",
    "                \n",
    "    return subgraph\n"
   ]
  },
  {
   "cell_type": "code",
   "execution_count": 109,
   "metadata": {},
   "outputs": [],
   "source": [
    "from torch_geometric.utils import k_hop_subgraph\n",
    "import torch\n",
    "\n",
    "molecule_mask = ent_type[:,0][G_tg.edge_index[0]] == 1\n",
    "def get_subgraph(G_tg, ent_type, idx):\n",
    "    nodes, filt_edge_index, _, edge_mask = k_hop_subgraph(idx, 1, G_tg.edge_index)\n",
    "    double_mask = molecule_mask * edge_mask\n",
    "    mask_idx = torch.where(double_mask)[0]\n",
    "    edge_subgraph = G_tg.edge_subgraph(mask_idx)\n",
    "    subgraph = edge_subgraph.subgraph(nodes)\n",
    "    masked_node_ids = edge_subgraph.edge_index[0]\n",
    "\n",
    "    return subgraph, masked_node_ids\n",
    "\n",
    "    "
   ]
  },
  {
   "cell_type": "code",
   "execution_count": 124,
   "metadata": {},
   "outputs": [],
   "source": [
    "nodes, filt_edge_index, idx_mapping, edge_mask = k_hop_subgraph(0, 1, G_tg.edge_index)"
   ]
  },
  {
   "cell_type": "code",
   "execution_count": 129,
   "metadata": {},
   "outputs": [
    {
     "data": {
      "text/plain": [
       "tensor(0)"
      ]
     },
     "execution_count": 129,
     "metadata": {},
     "output_type": "execute_result"
    }
   ],
   "source": [
    "filt_edge_index[0][0]"
   ]
  },
  {
   "cell_type": "code",
   "execution_count": 130,
   "metadata": {},
   "outputs": [],
   "source": [
    "import torch\n",
    "\n",
    "ent_type = torch.tensor(ent_type, dtype=torch.long)"
   ]
  },
  {
   "cell_type": "code",
   "execution_count": 234,
   "metadata": {},
   "outputs": [],
   "source": [
    "# nodes, filt_edge_index, _, edge_mask = k_hop_subgraph(0, 1, G_tg.edge_index)\n",
    "# molecule_mask = ent_type[:,0][filt_edge_index[0]] == 1\n",
    "# masked_edge_index= filt_edge_index[:, molecule_mask] # (2, num_edges)\n",
    "# relation = G_tg.relation[edge_mask][molecule_mask]\n",
    "# subgraph = Data(edge_index=masked_edge_index, relabel=True)\n",
    "# subgraph.relation = relation"
   ]
  },
  {
   "cell_type": "code",
   "execution_count": 252,
   "metadata": {},
   "outputs": [
    {
     "data": {
      "text/plain": [
       "(Data(edge_index=[2, 1951], relation=[1951], num_nodes=385),\n",
       " torch.Size([1951]),\n",
       " torch.Size([1951, 85]),\n",
       " torch.Size([1951, 16]),\n",
       " torch.Size([1951]))"
      ]
     },
     "execution_count": 252,
     "metadata": {},
     "output_type": "execute_result"
    }
   ],
   "source": [
    "molecule_mask = torch.tensor(ent_type[:,0][G_tg.edge_index[0]] == 1)\n",
    "ent_type = torch.tensor(np.load(f'{data_path}/ent_type_onehot.npy'))\n",
    "\n",
    "nodes, _, _, edge_mask = k_hop_subgraph(0, 1, G_tg.edge_index)\n",
    "double_mask = molecule_mask * edge_mask\n",
    "mask_idx = torch.where(double_mask)[0]\n",
    "edge_subgraph = G_tg.edge_subgraph(mask_idx)\n",
    "subgraph = edge_subgraph.subgraph(nodes)\n",
    "masked_node_ids = edge_subgraph.edge_index[0] # (num_masked_nodes,)\n",
    "motif_labels = motifs[masked_node_ids] # (num_masked_nodes, motif_len)\n",
    "node_labels = ent_type[masked_node_ids] # (num_masked_nodes, num_ent_type)\n",
    "rel_labels = subgraph.relation\n",
    "\n",
    "subgraph, masked_node_ids.shape, motif_labels.shape, node_labels.shape, rel_labels.shape"
   ]
  },
  {
   "cell_type": "code",
   "execution_count": 251,
   "metadata": {},
   "outputs": [
    {
     "data": {
      "text/plain": [
       "tensor([ 0,  0,  0,  ..., 31, 31, 31])"
      ]
     },
     "execution_count": 251,
     "metadata": {},
     "output_type": "execute_result"
    }
   ],
   "source": [
    "rel_labels"
   ]
  },
  {
   "cell_type": "code",
   "execution_count": 238,
   "metadata": {},
   "outputs": [
    {
     "name": "stdout",
     "output_type": "stream",
     "text": [
      "tensor([    0,     0,     1,     1,     1,     1,     1,     1,     1,     1,\n",
      "            1,     1,     1,     1,     1,     1,     1,     1,     1,     1,\n",
      "            1,    29,    29,    29,    29,   661,   661,   661,   661,   661,\n",
      "          661,   661,   661,   661,   661,  2277,  2343,  2343,  2343, 18686,\n",
      "        18686, 18686, 18686, 18686, 18686, 18686, 28000, 28000, 28000, 28749,\n",
      "        29943, 29943, 29943, 29943, 29943, 29943, 33784, 33784, 33784, 33784,\n",
      "        33784, 39941, 39941, 39941, 39941, 39941, 39941, 42393, 42393, 42393,\n",
      "        42393, 42393, 42393, 42393, 42393, 42393, 42624, 42624, 42624, 42624,\n",
      "        42624, 42624, 43274, 43462, 48532, 48532, 48532, 48532, 48532, 48532,\n",
      "        58132, 58132, 58132, 58132, 58132, 58132, 58132, 60341, 65188])\n"
     ]
    }
   ],
   "source": [
    "print(G_tg.edge_index[:, mask_idx][0])"
   ]
  },
  {
   "cell_type": "code",
   "execution_count": 239,
   "metadata": {},
   "outputs": [
    {
     "data": {
      "text/plain": [
       "tensor([[ 0,  0,  1,  1,  1,  1,  1,  1,  1,  1,  1,  1,  1,  1,  1,  1,  1,  1,\n",
       "          1,  1,  1,  2,  2,  2,  2,  3,  3,  3,  3,  3,  3,  3,  3,  3,  3,  4,\n",
       "          5,  5,  5,  6,  6,  6,  6,  6,  6,  6,  7,  7,  7,  8,  9,  9,  9,  9,\n",
       "          9,  9, 10, 10, 10, 10, 10, 11, 11, 11, 11, 11, 11, 12, 12, 12, 12, 12,\n",
       "         12, 12, 12, 12, 13, 13, 13, 13, 13, 13, 14, 15, 16, 16, 16, 16, 16, 16,\n",
       "         17, 17, 17, 17, 17, 17, 17, 18, 19],\n",
       "        [ 1,  7,  0,  2,  4,  5,  3, 18,  8,  6, 14, 11, 16,  7, 15, 13,  9, 10,\n",
       "         17, 19, 12,  1,  2,  5,  3,  1,  2, 16, 11, 12, 10,  6, 13,  9, 17,  1,\n",
       "          1,  2,  7,  1,  3, 13,  9, 17, 12, 11,  0,  1,  5,  1,  1,  3,  6, 13,\n",
       "         17, 12,  1,  3, 11, 16, 12,  1,  3,  6, 10, 16, 12,  1,  3,  6,  9, 10,\n",
       "         11, 16, 13, 17,  1,  3,  6,  9, 12, 17,  1,  1,  1,  3, 10, 11, 12, 17,\n",
       "          1,  3,  6,  9, 12, 13, 16,  1,  1]])"
      ]
     },
     "execution_count": 239,
     "metadata": {},
     "output_type": "execute_result"
    }
   ],
   "source": [
    "subgraph.edge_index"
   ]
  },
  {
   "cell_type": "code",
   "execution_count": 107,
   "metadata": {},
   "outputs": [
    {
     "data": {
      "text/plain": [
       "(3433, 3432)"
      ]
     },
     "execution_count": 107,
     "metadata": {},
     "output_type": "execute_result"
    }
   ],
   "source": [
    "s1.number_of_nodes(), s1.number_of_edges()"
   ]
  },
  {
   "cell_type": "code",
   "execution_count": 94,
   "metadata": {},
   "outputs": [
    {
     "data": {
      "text/plain": [
       "16979"
      ]
     },
     "execution_count": 94,
     "metadata": {},
     "output_type": "execute_result"
    }
   ],
   "source": [
    "for c_id in tqdm(center_molecule_ids):\n",
    "    subgraph = s1 = get_subgraph(G, c_id)\n",
    "    "
   ]
  },
  {
   "cell_type": "code",
   "execution_count": 1,
   "metadata": {},
   "outputs": [
    {
     "name": "stderr",
     "output_type": "stream",
     "text": [
      "/home/pj20/miniconda3/envs/kgc/lib/python3.8/site-packages/tqdm/auto.py:22: TqdmWarning: IProgress not found. Please update jupyter and ipywidgets. See https://ipywidgets.readthedocs.io/en/stable/user_install.html\n",
      "  from .autonotebook import tqdm as notebook_tqdm\n"
     ]
    },
    {
     "name": "stdout",
     "output_type": "stream",
     "text": [
      "Getting everything prepared...\n",
      "Loading entity type labels...\n",
      "Loading center molecule motifs...\n",
      "Loading entire knowledge graph...\n",
      "Loading molecule mask...\n",
      "Loading KGE embeddings...\n",
      "Loading KGE embeddings...\n"
     ]
    },
    {
     "name": "stderr",
     "output_type": "stream",
     "text": [
      "/home/pj20/gode/k_level_pretrain/pretrain.py:55: UserWarning: To copy construct from a tensor, it is recommended to use sourceTensor.clone().detach() or sourceTensor.clone().detach().requires_grad_(True), rather than torch.tensor(sourceTensor).\n",
      "  molecule_mask = torch.tensor(ent_type[:,0][G_tg.edge_index[0]] == 1) # (num_edges,)\n",
      "/home/pj20/gode/k_level_pretrain/pretrain.py:68: UserWarning: To copy construct from a tensor, it is recommended to use sourceTensor.clone().detach() or sourceTensor.clone().detach().requires_grad_(True), rather than torch.tensor(sourceTensor).\n",
      "  return torch.tensor(entity_embedding), torch.tensor(relation_embedding)\n"
     ]
    },
    {
     "name": "stdout",
     "output_type": "stream",
     "text": [
      "Initializing model...\n"
     ]
    }
   ],
   "source": [
    "from pretrain import *\n",
    "\n",
    "# your credentials\n",
    "\n",
    "params = {\n",
    "    \"lr\": 1e-4,\n",
    "    \"hidden_dim\": 200,\n",
    "    \"epochs\": 100,\n",
    "    \"lambda\": \"08_15_10\"\n",
    "}\n",
    "logger = get_logger(lr=params['lr'], hidden_dim=params['hidden_dim'], epochs=params['epochs'], lambda_=params['lambda'])\n",
    "\n",
    "\n",
    "# Data path\n",
    "data_path = '../data_process/pretrain_data'\n",
    "print('Getting everything prepared...')\n",
    "ent_type, motifs, G_tg, center_molecule_ids, molecule_mask = get_everything(data_path)\n",
    "\n",
    "# Get dataloader\n",
    "train_loader, val_loader = get_dataloader(G_tg, center_molecule_ids, molecule_mask, motifs, ent_type, batch_size=1)\n",
    "\n",
    "# Load KGE embeddings\n",
    "# return:\n",
    "# entity_embedding: (num_ent, emb_dim)\n",
    "# relation_embedding: (num_rel, emb_dim)\n",
    "emb_path = '/data/pj20/molkg_kge/transe'\n",
    "print('Loading KGE embeddings...')\n",
    "entity_embedding, relation_embedding = load_kge_embeddings(emb_path)\n",
    "\n",
    "# Initialize model\n",
    "print('Initializing model...')\n",
    "model = KGNN(\n",
    "    node_emb=entity_embedding,\n",
    "    rel_emb=relation_embedding,\n",
    "    num_nodes=ent_type.shape[0],\n",
    "    num_rels=39,\n",
    "    embedding_dim=512,\n",
    "    hidden_dim=200,\n",
    "    num_motifs=motifs.shape[1],\n",
    "    lambda_edge=0.8,\n",
    "    lambda_motif=1.5,\n",
    "    lambda_mol_class=1\n",
    ")\n",
    "\n",
    "# Train\n",
    "device = torch.device('cuda:1')\n",
    "model.to(device)\n",
    "\n",
    "optimizer = torch.optim.Adam(model.parameters(), lr=1e-4)\n",
    "epochs = 100"
   ]
  },
  {
   "cell_type": "code",
   "execution_count": 4,
   "metadata": {},
   "outputs": [
    {
     "name": "stdout",
     "output_type": "stream",
     "text": [
      "DataBatch(edge_index=[2, 122], relation=[122], num_nodes=22, masked_node_ids=[122], rel_ids=[122], center_molecule_id=[1], motif_labels=[122, 85], node_labels=[122, 16], batch=[22], ptr=[2])\n"
     ]
    }
   ],
   "source": [
    "for batch in train_loader:\n",
    "    print(batch)\n",
    "    break"
   ]
  },
  {
   "cell_type": "code",
   "execution_count": 2,
   "metadata": {},
   "outputs": [
    {
     "name": "stderr",
     "output_type": "stream",
     "text": [
      "  0%|          | 0/30420 [00:00<?, ?it/s]\n"
     ]
    },
    {
     "ename": "RuntimeError",
     "evalue": "Index tensor must have the same number of dimensions as self tensor",
     "output_type": "error",
     "traceback": [
      "\u001b[0;31m---------------------------------------------------------------------------\u001b[0m",
      "\u001b[0;31mRuntimeError\u001b[0m                              Traceback (most recent call last)",
      "\u001b[1;32m/home/pj20/gode/k_level_pretrain/test.ipynb Cell 17\u001b[0m in \u001b[0;36m<cell line: 1>\u001b[0;34m()\u001b[0m\n\u001b[0;32m----> <a href='vscode-notebook-cell://ssh-remote%2Bsunlab-serv-03.cs.illinois.edu/home/pj20/gode/k_level_pretrain/test.ipynb#X33sdnNjb2RlLXJlbW90ZQ%3D%3D?line=0'>1</a>\u001b[0m train_loop(model, train_loader, val_loader, optimizer, device, epochs)\n",
      "File \u001b[0;32m~/gode/k_level_pretrain/pretrain.py:224\u001b[0m, in \u001b[0;36mtrain_loop\u001b[0;34m(model, train_loader, val_loader, optimizer, device, epochs, logger, run, early_stop)\u001b[0m\n\u001b[1;32m    222\u001b[0m early_stop_indicator \u001b[39m=\u001b[39m \u001b[39m0\u001b[39m\n\u001b[1;32m    223\u001b[0m \u001b[39mfor\u001b[39;00m epoch \u001b[39min\u001b[39;00m \u001b[39mrange\u001b[39m(\u001b[39m1\u001b[39m, epochs\u001b[39m+\u001b[39m\u001b[39m1\u001b[39m):\n\u001b[0;32m--> 224\u001b[0m     train_loss \u001b[39m=\u001b[39m train(model, train_loader, device, optimizer)\n\u001b[1;32m    225\u001b[0m     valid_loss, y_prob_edge_all, y_prob_motif_all, y_prob_node_all, y_true_edge_all, y_true_motif_all, y_true_node_all \u001b[39m=\u001b[39m validate(model, val_loader, device)\n\u001b[1;32m    227\u001b[0m     y_prob_edge_all, y_prob_motif_all, y_prob_node_all, y_true_edge_all, y_true_motif_all, y_true_node_all \u001b[39m=\u001b[39m detach_numpy(y_prob_edge_all), detach_numpy(y_prob_motif_all), detach_numpy(y_prob_node_all), detach_numpy(y_true_edge_all), detach_numpy(y_true_motif_all), detach_numpy(y_true_node_all)\n",
      "File \u001b[0;32m~/gode/k_level_pretrain/pretrain.py:134\u001b[0m, in \u001b[0;36mtrain\u001b[0;34m(model, train_loader, device, optimizer)\u001b[0m\n\u001b[1;32m    132\u001b[0m tot_loss \u001b[39m=\u001b[39m \u001b[39m0\u001b[39m\n\u001b[1;32m    133\u001b[0m pbar \u001b[39m=\u001b[39m tqdm(\u001b[39menumerate\u001b[39m(train_loader), total\u001b[39m=\u001b[39m\u001b[39mlen\u001b[39m(train_loader))\n\u001b[0;32m--> 134\u001b[0m \u001b[39mfor\u001b[39;00m i, data \u001b[39min\u001b[39;00m pbar:\n\u001b[1;32m    135\u001b[0m     pbar\u001b[39m.\u001b[39mset_description(\u001b[39mf\u001b[39m\u001b[39m'\u001b[39m\u001b[39mloss: \u001b[39m\u001b[39m{\u001b[39;00mtraining_loss\u001b[39m}\u001b[39;00m\u001b[39m'\u001b[39m)\n\u001b[1;32m    136\u001b[0m     data \u001b[39m=\u001b[39m data\u001b[39m.\u001b[39mto(device)\n",
      "File \u001b[0;32m~/miniconda3/envs/kgc/lib/python3.8/site-packages/tqdm/std.py:1195\u001b[0m, in \u001b[0;36mtqdm.__iter__\u001b[0;34m(self)\u001b[0m\n\u001b[1;32m   1192\u001b[0m time \u001b[39m=\u001b[39m \u001b[39mself\u001b[39m\u001b[39m.\u001b[39m_time\n\u001b[1;32m   1194\u001b[0m \u001b[39mtry\u001b[39;00m:\n\u001b[0;32m-> 1195\u001b[0m     \u001b[39mfor\u001b[39;00m obj \u001b[39min\u001b[39;00m iterable:\n\u001b[1;32m   1196\u001b[0m         \u001b[39myield\u001b[39;00m obj\n\u001b[1;32m   1197\u001b[0m         \u001b[39m# Update and possibly print the progressbar.\u001b[39;00m\n\u001b[1;32m   1198\u001b[0m         \u001b[39m# Note: does not call self.update(1) for speed optimisation.\u001b[39;00m\n",
      "File \u001b[0;32m~/miniconda3/envs/kgc/lib/python3.8/site-packages/torch/utils/data/dataloader.py:652\u001b[0m, in \u001b[0;36m_BaseDataLoaderIter.__next__\u001b[0;34m(self)\u001b[0m\n\u001b[1;32m    649\u001b[0m \u001b[39mif\u001b[39;00m \u001b[39mself\u001b[39m\u001b[39m.\u001b[39m_sampler_iter \u001b[39mis\u001b[39;00m \u001b[39mNone\u001b[39;00m:\n\u001b[1;32m    650\u001b[0m     \u001b[39m# TODO(https://github.com/pytorch/pytorch/issues/76750)\u001b[39;00m\n\u001b[1;32m    651\u001b[0m     \u001b[39mself\u001b[39m\u001b[39m.\u001b[39m_reset()  \u001b[39m# type: ignore[call-arg]\u001b[39;00m\n\u001b[0;32m--> 652\u001b[0m data \u001b[39m=\u001b[39m \u001b[39mself\u001b[39;49m\u001b[39m.\u001b[39;49m_next_data()\n\u001b[1;32m    653\u001b[0m \u001b[39mself\u001b[39m\u001b[39m.\u001b[39m_num_yielded \u001b[39m+\u001b[39m\u001b[39m=\u001b[39m \u001b[39m1\u001b[39m\n\u001b[1;32m    654\u001b[0m \u001b[39mif\u001b[39;00m \u001b[39mself\u001b[39m\u001b[39m.\u001b[39m_dataset_kind \u001b[39m==\u001b[39m _DatasetKind\u001b[39m.\u001b[39mIterable \u001b[39mand\u001b[39;00m \\\n\u001b[1;32m    655\u001b[0m         \u001b[39mself\u001b[39m\u001b[39m.\u001b[39m_IterableDataset_len_called \u001b[39mis\u001b[39;00m \u001b[39mnot\u001b[39;00m \u001b[39mNone\u001b[39;00m \u001b[39mand\u001b[39;00m \\\n\u001b[1;32m    656\u001b[0m         \u001b[39mself\u001b[39m\u001b[39m.\u001b[39m_num_yielded \u001b[39m>\u001b[39m \u001b[39mself\u001b[39m\u001b[39m.\u001b[39m_IterableDataset_len_called:\n",
      "File \u001b[0;32m~/miniconda3/envs/kgc/lib/python3.8/site-packages/torch/utils/data/dataloader.py:692\u001b[0m, in \u001b[0;36m_SingleProcessDataLoaderIter._next_data\u001b[0;34m(self)\u001b[0m\n\u001b[1;32m    690\u001b[0m \u001b[39mdef\u001b[39;00m \u001b[39m_next_data\u001b[39m(\u001b[39mself\u001b[39m):\n\u001b[1;32m    691\u001b[0m     index \u001b[39m=\u001b[39m \u001b[39mself\u001b[39m\u001b[39m.\u001b[39m_next_index()  \u001b[39m# may raise StopIteration\u001b[39;00m\n\u001b[0;32m--> 692\u001b[0m     data \u001b[39m=\u001b[39m \u001b[39mself\u001b[39;49m\u001b[39m.\u001b[39;49m_dataset_fetcher\u001b[39m.\u001b[39;49mfetch(index)  \u001b[39m# may raise StopIteration\u001b[39;00m\n\u001b[1;32m    693\u001b[0m     \u001b[39mif\u001b[39;00m \u001b[39mself\u001b[39m\u001b[39m.\u001b[39m_pin_memory:\n\u001b[1;32m    694\u001b[0m         data \u001b[39m=\u001b[39m _utils\u001b[39m.\u001b[39mpin_memory\u001b[39m.\u001b[39mpin_memory(data, \u001b[39mself\u001b[39m\u001b[39m.\u001b[39m_pin_memory_device)\n",
      "File \u001b[0;32m~/miniconda3/envs/kgc/lib/python3.8/site-packages/torch/utils/data/_utils/fetch.py:49\u001b[0m, in \u001b[0;36m_MapDatasetFetcher.fetch\u001b[0;34m(self, possibly_batched_index)\u001b[0m\n\u001b[1;32m     47\u001b[0m \u001b[39mdef\u001b[39;00m \u001b[39mfetch\u001b[39m(\u001b[39mself\u001b[39m, possibly_batched_index):\n\u001b[1;32m     48\u001b[0m     \u001b[39mif\u001b[39;00m \u001b[39mself\u001b[39m\u001b[39m.\u001b[39mauto_collation:\n\u001b[0;32m---> 49\u001b[0m         data \u001b[39m=\u001b[39m [\u001b[39mself\u001b[39m\u001b[39m.\u001b[39mdataset[idx] \u001b[39mfor\u001b[39;00m idx \u001b[39min\u001b[39;00m possibly_batched_index]\n\u001b[1;32m     50\u001b[0m     \u001b[39melse\u001b[39;00m:\n\u001b[1;32m     51\u001b[0m         data \u001b[39m=\u001b[39m \u001b[39mself\u001b[39m\u001b[39m.\u001b[39mdataset[possibly_batched_index]\n",
      "File \u001b[0;32m~/miniconda3/envs/kgc/lib/python3.8/site-packages/torch/utils/data/_utils/fetch.py:49\u001b[0m, in \u001b[0;36m<listcomp>\u001b[0;34m(.0)\u001b[0m\n\u001b[1;32m     47\u001b[0m \u001b[39mdef\u001b[39;00m \u001b[39mfetch\u001b[39m(\u001b[39mself\u001b[39m, possibly_batched_index):\n\u001b[1;32m     48\u001b[0m     \u001b[39mif\u001b[39;00m \u001b[39mself\u001b[39m\u001b[39m.\u001b[39mauto_collation:\n\u001b[0;32m---> 49\u001b[0m         data \u001b[39m=\u001b[39m [\u001b[39mself\u001b[39;49m\u001b[39m.\u001b[39;49mdataset[idx] \u001b[39mfor\u001b[39;00m idx \u001b[39min\u001b[39;00m possibly_batched_index]\n\u001b[1;32m     50\u001b[0m     \u001b[39melse\u001b[39;00m:\n\u001b[1;32m     51\u001b[0m         data \u001b[39m=\u001b[39m \u001b[39mself\u001b[39m\u001b[39m.\u001b[39mdataset[possibly_batched_index]\n",
      "File \u001b[0;32m~/miniconda3/envs/kgc/lib/python3.8/site-packages/torch/utils/data/dataset.py:290\u001b[0m, in \u001b[0;36mSubset.__getitem__\u001b[0;34m(self, idx)\u001b[0m\n\u001b[1;32m    288\u001b[0m \u001b[39mif\u001b[39;00m \u001b[39misinstance\u001b[39m(idx, \u001b[39mlist\u001b[39m):\n\u001b[1;32m    289\u001b[0m     \u001b[39mreturn\u001b[39;00m \u001b[39mself\u001b[39m\u001b[39m.\u001b[39mdataset[[\u001b[39mself\u001b[39m\u001b[39m.\u001b[39mindices[i] \u001b[39mfor\u001b[39;00m i \u001b[39min\u001b[39;00m idx]]\n\u001b[0;32m--> 290\u001b[0m \u001b[39mreturn\u001b[39;00m \u001b[39mself\u001b[39;49m\u001b[39m.\u001b[39;49mdataset[\u001b[39mself\u001b[39;49m\u001b[39m.\u001b[39;49mindices[idx]]\n",
      "File \u001b[0;32m~/gode/k_level_pretrain/pretrain.py:108\u001b[0m, in \u001b[0;36mDataset.__getitem__\u001b[0;34m(self, idx)\u001b[0m\n\u001b[1;32m    107\u001b[0m \u001b[39mdef\u001b[39;00m \u001b[39m__getitem__\u001b[39m(\u001b[39mself\u001b[39m, idx):\n\u001b[0;32m--> 108\u001b[0m     \u001b[39mreturn\u001b[39;00m get_subgraph(\n\u001b[1;32m    109\u001b[0m         G_tg\u001b[39m=\u001b[39;49m\u001b[39mself\u001b[39;49m\u001b[39m.\u001b[39;49mG_tg, \n\u001b[1;32m    110\u001b[0m         molecule_mask\u001b[39m=\u001b[39;49m\u001b[39mself\u001b[39;49m\u001b[39m.\u001b[39;49mmolecule_mask, \n\u001b[1;32m    111\u001b[0m         center_molecule_id\u001b[39m=\u001b[39;49m\u001b[39mself\u001b[39;49m\u001b[39m.\u001b[39;49mcenter_molecule_ids[idx], \n\u001b[1;32m    112\u001b[0m         motifs\u001b[39m=\u001b[39;49m\u001b[39mself\u001b[39;49m\u001b[39m.\u001b[39;49mmotifs, \n\u001b[1;32m    113\u001b[0m         ent_type\u001b[39m=\u001b[39;49m\u001b[39mself\u001b[39;49m\u001b[39m.\u001b[39;49ment_type\n\u001b[1;32m    114\u001b[0m         )\n",
      "File \u001b[0;32m~/gode/k_level_pretrain/pretrain.py:86\u001b[0m, in \u001b[0;36mget_subgraph\u001b[0;34m(G_tg, molecule_mask, center_molecule_id, motifs, ent_type)\u001b[0m\n\u001b[1;32m     84\u001b[0m one_hot \u001b[39m=\u001b[39m torch\u001b[39m.\u001b[39mzeros((subgraph\u001b[39m.\u001b[39medge_index\u001b[39m.\u001b[39mshape[\u001b[39m1\u001b[39m], \u001b[39m39\u001b[39m))\n\u001b[1;32m     85\u001b[0m \u001b[39m# scatter ones into the one-hot tensor\u001b[39;00m\n\u001b[0;32m---> 86\u001b[0m rel_labels \u001b[39m=\u001b[39m one_hot\u001b[39m.\u001b[39;49mscatter_(\u001b[39m1\u001b[39;49m, rel_ids, \u001b[39m1\u001b[39;49m) \u001b[39m# (num_masked_edges, num_rels)\u001b[39;00m\n\u001b[1;32m     88\u001b[0m subgraph\u001b[39m.\u001b[39mmasked_node_ids \u001b[39m=\u001b[39m masked_node_ids\n\u001b[1;32m     89\u001b[0m subgraph\u001b[39m.\u001b[39mrel_labels \u001b[39m=\u001b[39m rel_labels\n",
      "\u001b[0;31mRuntimeError\u001b[0m: Index tensor must have the same number of dimensions as self tensor"
     ]
    }
   ],
   "source": [
    " train_loop(model, train_loader, val_loader, optimizer, device, epochs)"
   ]
  },
  {
   "cell_type": "code",
   "execution_count": 6,
   "metadata": {},
   "outputs": [
    {
     "data": {
      "text/plain": [
       "tensor([[0., 0., 0., 0., 0., 0., 0., 0., 0., 0., 0., 0., 0., 0., 0., 0., 0., 0., 0., 0., 0., 0., 0., 0.,\n",
       "         0., 0., 0., 0., 0., 0., 0., 0., 0., 0., 0., 0., 0., 0., 0.],\n",
       "        [0., 0., 0., 0., 0., 0., 0., 0., 0., 0., 0., 0., 0., 0., 0., 0., 0., 0., 0., 0., 0., 0., 0., 0.,\n",
       "         0., 0., 0., 0., 0., 0., 0., 0., 0., 0., 0., 0., 0., 0., 0.],\n",
       "        [0., 0., 0., 0., 0., 0., 0., 0., 0., 0., 0., 0., 0., 0., 0., 0., 0., 0., 0., 0., 0., 0., 0., 0.,\n",
       "         0., 0., 0., 0., 0., 0., 0., 0., 0., 0., 0., 0., 0., 0., 0.],\n",
       "        [0., 0., 0., 0., 0., 0., 0., 0., 0., 0., 0., 0., 0., 0., 0., 0., 0., 0., 0., 0., 0., 0., 0., 0.,\n",
       "         0., 0., 0., 0., 0., 0., 0., 0., 0., 0., 0., 0., 0., 0., 0.]])"
      ]
     },
     "execution_count": 6,
     "metadata": {},
     "output_type": "execute_result"
    }
   ],
   "source": [
    "torch.zeros((5, 39))"
   ]
  },
  {
   "cell_type": "code",
   "execution_count": null,
   "metadata": {},
   "outputs": [],
   "source": []
  }
 ],
 "metadata": {
  "kernelspec": {
   "display_name": "Python 3.8.13 ('kgc')",
   "language": "python",
   "name": "python3"
  },
  "language_info": {
   "codemirror_mode": {
    "name": "ipython",
    "version": 3
   },
   "file_extension": ".py",
   "mimetype": "text/x-python",
   "name": "python",
   "nbconvert_exporter": "python",
   "pygments_lexer": "ipython3",
   "version": "3.8.13"
  },
  "orig_nbformat": 4,
  "vscode": {
   "interpreter": {
    "hash": "3d0509d9aa81f2882b18eeb72d4d23c32cae9029e9b99f63cde94ba86c35ac78"
   }
  }
 },
 "nbformat": 4,
 "nbformat_minor": 2
}
